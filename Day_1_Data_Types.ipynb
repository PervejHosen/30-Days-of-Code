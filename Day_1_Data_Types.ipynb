{
  "nbformat": 4,
  "nbformat_minor": 0,
  "metadata": {
    "colab": {
      "provenance": [],
      "authorship_tag": "ABX9TyOzHhog/Pu3XcCZ0A870dAG",
      "include_colab_link": true
    },
    "kernelspec": {
      "name": "python3",
      "display_name": "Python 3"
    },
    "language_info": {
      "name": "python"
    }
  },
  "cells": [
    {
      "cell_type": "markdown",
      "metadata": {
        "id": "view-in-github",
        "colab_type": "text"
      },
      "source": [
        "<a href=\"https://colab.research.google.com/github/PervejHosen/30-Days-of-Code/blob/main/Day_1_Data_Types.ipynb\" target=\"_parent\"><img src=\"https://colab.research.google.com/assets/colab-badge.svg\" alt=\"Open In Colab\"/></a>"
      ]
    },
    {
      "cell_type": "code",
      "execution_count": 2,
      "metadata": {
        "colab": {
          "base_uri": "https://localhost:8080/"
        },
        "id": "3wweWD1K0-Ef",
        "outputId": "6ad58c69-9bbc-436a-c678-14de682793b3"
      },
      "outputs": [
        {
          "output_type": "stream",
          "name": "stdout",
          "text": [
            "7\n",
            "4\n",
            "hello\n",
            "11\n",
            "8.0\n",
            "HackerRank hello\n"
          ]
        }
      ],
      "source": [
        "i = 4\n",
        "d = 4.0\n",
        "s = 'HackerRank '\n",
        "\n",
        "# Declare second integer, double, and String variables.\n",
        "i2 = None\n",
        "d2 = None\n",
        "s2 = None\n",
        "\n",
        "# Read and save an integer, double, and String to your variables.\n",
        "i2 = int(input())\n",
        "d2 = float(input())\n",
        "s2 = str(input())\n",
        "\n",
        "# Print the sum of both integer variables on a new line.\n",
        "print(i + i2)\n",
        "\n",
        "# Print the sum of the double variables on a new line.\n",
        "print(d + d2)\n",
        "\n",
        "# Concatenate and print the String variables on a new line\n",
        "# The 's' variable above should be printed first.\n",
        "print(s + s2)"
      ]
    }
  ]
}